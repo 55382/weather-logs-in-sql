{
 "cells": [
  {
   "cell_type": "code",
   "execution_count": 1,
   "id": "b89d2189",
   "metadata": {},
   "outputs": [
    {
     "ename": "SyntaxError",
     "evalue": "invalid syntax (Temp/ipykernel_20576/3739161967.py, line 32)",
     "output_type": "error",
     "traceback": [
      "\u001b[1;36m  File \u001b[1;32m\"C:\\Users\\hanab\\AppData\\Local\\Temp/ipykernel_20576/3739161967.py\"\u001b[1;36m, line \u001b[1;32m32\u001b[0m\n\u001b[1;33m    if last[0]=='d'\u001b[0m\n\u001b[1;37m                    ^\u001b[0m\n\u001b[1;31mSyntaxError\u001b[0m\u001b[1;31m:\u001b[0m invalid syntax\n"
     ]
    }
   ],
   "source": [
    "class Account:\n",
    "    '''\n",
    "    class that represents a bank account\n",
    "    '''\n",
    "    def  __init__(self,account_number,currency,name):\n",
    "        self.account_number=account-number\n",
    "        self.currency=currency\n",
    "        self.name=name\n",
    "        self.balance=0\n",
    "        self.transcations=[]\n",
    "        \n",
    "    def deposit(self,amount):\n",
    "        self.balance+=amount\n",
    "        self.transactions.append(('d',amount,datetime.now()))\n",
    "        print (\"Deposit succesuful!\")\n",
    "    def withdraw (self,amount):\n",
    "        if amount > self.balance:\n",
    "            print(\"Insufficient Funds\")\n",
    "        else:    \n",
    "            self.balance-=amount\n",
    "            transactions.append(('w',amount,datetime.now()))\n",
    "        print(\"Withdrawl Succesuful\")\n",
    "    def check_balance(self):\n",
    "        print(f\"currentbalance:{self.balance}\")\n",
    "    def log(self):\n",
    "        try:\n",
    "            print (\"Your account information \")\n",
    "            print(\"*************************************\")\n",
    "            print(f\"AccountNumber:{self.account_number}\")\n",
    "            print(\"last transactions:\")\n",
    "            last =self.transactions[-1]\n",
    "            if last[0]=='d' \n",
    "              print(f\" deposit|Amount:{last[1]}|Time:{last [2]\"}\n",
    "            else:\n",
    "               print(f\"Withdraw|Amount:{last[1]}|Time:{last [2]\"}\n",
    "\n",
    "        except:\n",
    "            print(\"No transactions on the account yet\")"
   ]
  },
  {
   "cell_type": "code",
   "execution_count": null,
   "id": "41425a46",
   "metadata": {},
   "outputs": [],
   "source": []
  }
 ],
 "metadata": {
  "kernelspec": {
   "display_name": "Python 3 (ipykernel)",
   "language": "python",
   "name": "python3"
  },
  "language_info": {
   "codemirror_mode": {
    "name": "ipython",
    "version": 3
   },
   "file_extension": ".py",
   "mimetype": "text/x-python",
   "name": "python",
   "nbconvert_exporter": "python",
   "pygments_lexer": "ipython3",
   "version": "3.9.7"
  }
 },
 "nbformat": 4,
 "nbformat_minor": 5
}
